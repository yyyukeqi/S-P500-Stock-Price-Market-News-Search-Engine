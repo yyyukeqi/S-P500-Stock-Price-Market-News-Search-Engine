{
 "cells": [
  {
   "cell_type": "code",
   "execution_count": 2,
   "id": "8e565d3e",
   "metadata": {
    "scrolled": true
   },
   "outputs": [
    {
     "name": "stdout",
     "output_type": "stream",
     "text": [
      "Collecting datapackage\n",
      "  Downloading datapackage-1.15.2-py2.py3-none-any.whl (85 kB)\n",
      "\u001b[K     |████████████████████████████████| 85 kB 2.6 MB/s eta 0:00:01\n",
      "\u001b[?25hRequirement already satisfied: click>=6.7 in /Users/melissayu/opt/anaconda3/lib/python3.9/site-packages (from datapackage) (8.0.4)\n",
      "Requirement already satisfied: unicodecsv>=0.14 in /Users/melissayu/opt/anaconda3/lib/python3.9/site-packages (from datapackage) (0.14.1)\n",
      "Collecting jsonpointer>=1.10\n",
      "  Downloading jsonpointer-2.3-py2.py3-none-any.whl (7.8 kB)\n",
      "Requirement already satisfied: six>=1.10 in /Users/melissayu/opt/anaconda3/lib/python3.9/site-packages (from datapackage) (1.16.0)\n",
      "Requirement already satisfied: requests>=2.8 in /Users/melissayu/opt/anaconda3/lib/python3.9/site-packages (from datapackage) (2.26.0)\n",
      "Requirement already satisfied: chardet>=3.0 in /Users/melissayu/opt/anaconda3/lib/python3.9/site-packages (from datapackage) (4.0.0)\n",
      "Requirement already satisfied: jsonschema>=2.5 in /Users/melissayu/opt/anaconda3/lib/python3.9/site-packages (from datapackage) (3.2.0)\n",
      "Collecting tabulator>=1.29\n",
      "  Downloading tabulator-1.53.5-py2.py3-none-any.whl (72 kB)\n",
      "\u001b[K     |████████████████████████████████| 72 kB 3.1 MB/s  eta 0:00:01\n",
      "\u001b[?25hCollecting tableschema>=1.12.1\n",
      "  Downloading tableschema-1.20.2-py2.py3-none-any.whl (68 kB)\n",
      "\u001b[K     |████████████████████████████████| 68 kB 8.3 MB/s eta 0:00:011\n",
      "\u001b[?25hRequirement already satisfied: setuptools in /Users/melissayu/opt/anaconda3/lib/python3.9/site-packages (from jsonschema>=2.5->datapackage) (58.0.4)\n",
      "Requirement already satisfied: attrs>=17.4.0 in /Users/melissayu/opt/anaconda3/lib/python3.9/site-packages (from jsonschema>=2.5->datapackage) (21.2.0)\n",
      "Requirement already satisfied: pyrsistent>=0.14.0 in /Users/melissayu/opt/anaconda3/lib/python3.9/site-packages (from jsonschema>=2.5->datapackage) (0.18.0)\n",
      "Requirement already satisfied: idna<4,>=2.5 in /Users/melissayu/opt/anaconda3/lib/python3.9/site-packages (from requests>=2.8->datapackage) (3.2)\n",
      "Requirement already satisfied: urllib3<1.27,>=1.21.1 in /Users/melissayu/opt/anaconda3/lib/python3.9/site-packages (from requests>=2.8->datapackage) (1.26.7)\n",
      "Requirement already satisfied: certifi>=2017.4.17 in /Users/melissayu/opt/anaconda3/lib/python3.9/site-packages (from requests>=2.8->datapackage) (2021.10.8)\n",
      "Requirement already satisfied: charset-normalizer~=2.0.0 in /Users/melissayu/opt/anaconda3/lib/python3.9/site-packages (from requests>=2.8->datapackage) (2.0.4)\n",
      "Collecting rfc3986>=1.1.0\n",
      "  Downloading rfc3986-2.0.0-py2.py3-none-any.whl (31 kB)\n",
      "Requirement already satisfied: cached-property>=1.5 in /Users/melissayu/opt/anaconda3/lib/python3.9/site-packages (from tableschema>=1.12.1->datapackage) (1.5.2)\n",
      "Collecting isodate>=0.5.4\n",
      "  Downloading isodate-0.6.1-py2.py3-none-any.whl (41 kB)\n",
      "\u001b[K     |████████████████████████████████| 41 kB 2.2 MB/s eta 0:00:01\n",
      "\u001b[?25hRequirement already satisfied: python-dateutil>=2.4 in /Users/melissayu/opt/anaconda3/lib/python3.9/site-packages (from tableschema>=1.12.1->datapackage) (2.8.2)\n",
      "Requirement already satisfied: sqlalchemy>=0.9.6 in /Users/melissayu/opt/anaconda3/lib/python3.9/site-packages (from tabulator>=1.29->datapackage) (1.4.22)\n",
      "Collecting linear-tsv>=1.0\n",
      "  Downloading linear-tsv-1.1.0.tar.gz (9.6 kB)\n",
      "Requirement already satisfied: openpyxl>=2.6 in /Users/melissayu/opt/anaconda3/lib/python3.9/site-packages (from tabulator>=1.29->datapackage) (3.0.9)\n",
      "Collecting ijson>=3.0.3\n",
      "  Downloading ijson-3.1.4-cp39-cp39-macosx_10_9_x86_64.whl (52 kB)\n",
      "\u001b[K     |████████████████████████████████| 52 kB 6.2 MB/s  eta 0:00:01\n",
      "\u001b[?25hCollecting jsonlines>=1.1\n",
      "  Downloading jsonlines-3.0.0-py3-none-any.whl (8.5 kB)\n",
      "Requirement already satisfied: xlrd>=1.0 in /Users/melissayu/opt/anaconda3/lib/python3.9/site-packages (from tabulator>=1.29->datapackage) (2.0.1)\n",
      "Collecting boto3>=1.9\n",
      "  Downloading boto3-1.21.43-py3-none-any.whl (132 kB)\n",
      "\u001b[K     |████████████████████████████████| 132 kB 11.6 MB/s eta 0:00:01\n",
      "\u001b[?25hCollecting botocore<1.25.0,>=1.24.43\n",
      "  Downloading botocore-1.24.43-py3-none-any.whl (8.7 MB)\n",
      "\u001b[K     |████████████████████████████████| 8.7 MB 2.7 MB/s eta 0:00:01     |██▌                             | 665 kB 9.5 MB/s eta 0:00:01\n",
      "\u001b[?25hCollecting s3transfer<0.6.0,>=0.5.0\n",
      "  Downloading s3transfer-0.5.2-py3-none-any.whl (79 kB)\n",
      "\u001b[K     |████████████████████████████████| 79 kB 2.2 MB/s eta 0:00:01\n",
      "\u001b[?25hCollecting jmespath<2.0.0,>=0.7.1\n",
      "  Downloading jmespath-1.0.0-py3-none-any.whl (23 kB)\n",
      "Requirement already satisfied: et-xmlfile in /Users/melissayu/opt/anaconda3/lib/python3.9/site-packages (from openpyxl>=2.6->tabulator>=1.29->datapackage) (1.1.0)\n",
      "Requirement already satisfied: greenlet!=0.4.17 in /Users/melissayu/opt/anaconda3/lib/python3.9/site-packages (from sqlalchemy>=0.9.6->tabulator>=1.29->datapackage) (1.1.1)\n",
      "Building wheels for collected packages: linear-tsv\n",
      "  Building wheel for linear-tsv (setup.py) ... \u001b[?25ldone\n",
      "\u001b[?25h  Created wheel for linear-tsv: filename=linear_tsv-1.1.0-py3-none-any.whl size=7399 sha256=e59c682bf184ed2baca4e79869e794ed60afd346ddc341432c1b1e7e18d349af\n",
      "  Stored in directory: /Users/melissayu/Library/Caches/pip/wheels/b5/eb/b6/e409f80d7fec532e4240dda9562cad374257d2dd010b40cfff\n",
      "Successfully built linear-tsv\n",
      "Installing collected packages: jmespath, botocore, s3transfer, linear-tsv, jsonlines, ijson, boto3, tabulator, rfc3986, isodate, tableschema, jsonpointer, datapackage\n",
      "Successfully installed boto3-1.21.43 botocore-1.24.43 datapackage-1.15.2 ijson-3.1.4 isodate-0.6.1 jmespath-1.0.0 jsonlines-3.0.0 jsonpointer-2.3 linear-tsv-1.1.0 rfc3986-2.0.0 s3transfer-0.5.2 tableschema-1.20.2 tabulator-1.53.5\n"
     ]
    }
   ],
   "source": [
    "#!pip install datapackage --upgrade\n",
    "#!pip install yfinance --upgrade --no-cache-dir"
   ]
  },
  {
   "cell_type": "markdown",
   "id": "06df9bb3",
   "metadata": {},
   "source": [
    "# This file is for data preparation. It is not necessary to run, since the files we used for analysis are already exported.\n",
    "The reason is that a free API key can only get 100 companies's news, so I tried 6 different api keys. \n",
    "However, If running, it requires a lot of time and for every 100 companies you need to change a api key, \n",
    "which I listed below."
   ]
  },
  {
   "cell_type": "code",
   "execution_count": 1,
   "id": "d5e01545",
   "metadata": {},
   "outputs": [
    {
     "name": "stdout",
     "output_type": "stream",
     "text": [
      "    Symbol                 Name                  Sector\n",
      "0      MMM                   3M             Industrials\n",
      "1      AOS          A. O. Smith             Industrials\n",
      "2      ABT  Abbott Laboratories             Health Care\n",
      "3     ABBV               AbbVie             Health Care\n",
      "4     ABMD              Abiomed             Health Care\n",
      "..     ...                  ...                     ...\n",
      "500    YUM          Yum! Brands  Consumer Discretionary\n",
      "501   ZBRA   Zebra Technologies  Information Technology\n",
      "502    ZBH        Zimmer Biomet             Health Care\n",
      "503   ZION        Zions Bancorp              Financials\n",
      "504    ZTS               Zoetis             Health Care\n",
      "\n",
      "[505 rows x 3 columns]\n",
      "    Symbol                 Name                  Sector\n",
      "0      MMM                   3M             Industrials\n",
      "1      AOS          A. O. Smith             Industrials\n",
      "2      ABT  Abbott Laboratories             Health Care\n",
      "3     ABBV               AbbVie             Health Care\n",
      "4     ABMD              Abiomed             Health Care\n",
      "..     ...                  ...                     ...\n",
      "500    YUM          Yum! Brands  Consumer Discretionary\n",
      "501   ZBRA   Zebra Technologies  Information Technology\n",
      "502    ZBH        Zimmer Biomet             Health Care\n",
      "503   ZION        Zions Bancorp              Financials\n",
      "504    ZTS               Zoetis             Health Care\n",
      "\n",
      "[505 rows x 3 columns]\n"
     ]
    }
   ],
   "source": [
    "import datapackage\n",
    "import pandas as pd\n",
    "\n",
    "data_url = 'https://datahub.io/core/s-and-p-500-companies/datapackage.json'\n",
    "\n",
    "# to load Data Package into storage\n",
    "package = datapackage.Package(data_url)\n",
    "\n",
    "# to load only tabular data\n",
    "resources = package.resources\n",
    "for resource in resources:\n",
    "    if resource.tabular:\n",
    "        data = pd.read_csv(resource.descriptor['path'])\n",
    "        print (data)"
   ]
  },
  {
   "cell_type": "code",
   "execution_count": 3,
   "id": "6177586a",
   "metadata": {},
   "outputs": [],
   "source": [
    "company_list = list(data.Name)\n",
    "symbol_list = list(data.Symbol)"
   ]
  },
  {
   "cell_type": "code",
   "execution_count": 5,
   "id": "58469d83",
   "metadata": {},
   "outputs": [
    {
     "name": "stdout",
     "output_type": "stream",
     "text": [
      "- BRK.B: No data found, symbol may be delisted\n",
      "- BF.B: No data found for this date range, symbol may be delisted\n",
      "- INFO: No data found, symbol may be delisted\n",
      "- KSU: No data found, symbol may be delisted\n",
      "- VIAC: No data found, symbol may be delisted\n",
      "- WLTW: No data found, symbol may be delisted\n",
      "- XLNX: No data found, symbol may be delisted\n"
     ]
    }
   ],
   "source": [
    "import yfinance as yf\n",
    "import pandas as pd\n",
    "\n",
    "stock = pd.DataFrame()\n",
    "\n",
    "for name in symbol_list:\n",
    "    ticker_object = yf.Ticker(name)\n",
    "    ticker_object_historical = ticker_object.history(start=\"2022-03-20\", end=\"2022-04-20\")\n",
    "    ticker_object_historical['Symbol'] = name\n",
    "    stock = stock.append(ticker_object_historical)"
   ]
  },
  {
   "cell_type": "code",
   "execution_count": null,
   "id": "513fec7b",
   "metadata": {},
   "outputs": [],
   "source": [
    "#6 month data for future use\n",
    "#for name in symbol_list:\n",
    "    #ticker_object = yf.Ticker(name)\n",
    "    #ticker_object_historical = ticker_object.history(start=\"2021-10-20\", end=\"2022-04-20\")\n",
    "    #ticker_object_historical['Symbol'] = name\n",
    "    #stock = stock.append(ticker_object_historical)"
   ]
  },
  {
   "cell_type": "markdown",
   "id": "9b43fb20",
   "metadata": {},
   "source": [
    "The output generated above shows that the data of six companies were not found:\n",
    "\n",
    "- BRK.B: No data found, symbol may be delisted\n",
    "- BF.B: No data found for this date range, symbol may be delisted\n",
    "- INFO: No data found for this date range, symbol may be delisted\n",
    "- KSU: No data found, symbol may be delisted\n",
    "- WLTW: No data found, symbol may be delisted\n",
    "- XLNX: No data found, symbol may be delisted\n",
    "\n",
    "So we manual insert these six companies into our database\n",
    "The reason that it doesn't insert is that the symbol is different\n",
    "Symbol in yfinance referring to the first two companied should be converted from (\"BRK.B\", \"BF.B\") to (\"BRK-B\", \"BF-B\")\n",
    "Yahoo Finance official website do not provide the stock price data of the other four companies in the last month, \n",
    "so we excluded these four companies"
   ]
  },
  {
   "cell_type": "code",
   "execution_count": 6,
   "id": "a487fead",
   "metadata": {},
   "outputs": [],
   "source": [
    "stock1 = pd.DataFrame(stock)"
   ]
  },
  {
   "cell_type": "code",
   "execution_count": 7,
   "id": "10b2cb3e",
   "metadata": {},
   "outputs": [],
   "source": [
    "#1 month for our demo\n",
    "delisted_symbol = (\"BRK-B\", \"BF-B\")\n",
    "stock2 = pd.DataFrame()\n",
    "for ticker in delisted_symbol:\n",
    "    ticker_object = yf.Ticker(ticker)\n",
    "    ticker_object_historical = ticker_object.history(start=\"2022-03-20\", end=\"2022-04-20\")\n",
    "    ticker_object_historical['Symbol'] = ticker\n",
    "    stock2 = stock2.append(ticker_object_historical)\n",
    "stock1 = stock1.append(stock2)"
   ]
  },
  {
   "cell_type": "code",
   "execution_count": null,
   "id": "2ceb09e1",
   "metadata": {},
   "outputs": [],
   "source": [
    "#6 months maybe in the future\n",
    "#delisted_symbol = (\"BRK-B\", \"BF-B\")\n",
    "#stock2 = pd.DataFrame()\n",
    "#for ticker in delisted_symbol:\n",
    "    #ticker_object = yf.Ticker(ticker)\n",
    "    #ticker_object_historical = ticker_object.history(start=\"2021-10-20\", end=\"2022-04-20\")\n",
    "    #ticker_object_historical['Symbol'] = ticker\n",
    "    #stock2 = stock2.append(ticker_object_historical)\n",
    "#stock1 = stock1.append(stock2)"
   ]
  },
  {
   "cell_type": "code",
   "execution_count": 8,
   "id": "54e9b48a",
   "metadata": {},
   "outputs": [
    {
     "data": {
      "text/html": [
       "<div>\n",
       "<style scoped>\n",
       "    .dataframe tbody tr th:only-of-type {\n",
       "        vertical-align: middle;\n",
       "    }\n",
       "\n",
       "    .dataframe tbody tr th {\n",
       "        vertical-align: top;\n",
       "    }\n",
       "\n",
       "    .dataframe thead th {\n",
       "        text-align: right;\n",
       "    }\n",
       "</style>\n",
       "<table border=\"1\" class=\"dataframe\">\n",
       "  <thead>\n",
       "    <tr style=\"text-align: right;\">\n",
       "      <th></th>\n",
       "      <th>Open</th>\n",
       "      <th>High</th>\n",
       "      <th>Low</th>\n",
       "      <th>Close</th>\n",
       "      <th>Volume</th>\n",
       "      <th>Dividends</th>\n",
       "      <th>Stock Splits</th>\n",
       "      <th>Symbol</th>\n",
       "      <th>Adj Close</th>\n",
       "    </tr>\n",
       "    <tr>\n",
       "      <th>Date</th>\n",
       "      <th></th>\n",
       "      <th></th>\n",
       "      <th></th>\n",
       "      <th></th>\n",
       "      <th></th>\n",
       "      <th></th>\n",
       "      <th></th>\n",
       "      <th></th>\n",
       "      <th></th>\n",
       "    </tr>\n",
       "  </thead>\n",
       "  <tbody>\n",
       "    <tr>\n",
       "      <th>2022-03-21</th>\n",
       "      <td>148.690002</td>\n",
       "      <td>149.740005</td>\n",
       "      <td>147.399994</td>\n",
       "      <td>148.580002</td>\n",
       "      <td>4514900.0</td>\n",
       "      <td>0.0</td>\n",
       "      <td>0.0</td>\n",
       "      <td>MMM</td>\n",
       "      <td>NaN</td>\n",
       "    </tr>\n",
       "    <tr>\n",
       "      <th>2022-03-22</th>\n",
       "      <td>149.449997</td>\n",
       "      <td>150.839996</td>\n",
       "      <td>148.500000</td>\n",
       "      <td>149.940002</td>\n",
       "      <td>4252000.0</td>\n",
       "      <td>0.0</td>\n",
       "      <td>0.0</td>\n",
       "      <td>MMM</td>\n",
       "      <td>NaN</td>\n",
       "    </tr>\n",
       "    <tr>\n",
       "      <th>2022-03-23</th>\n",
       "      <td>149.690002</td>\n",
       "      <td>149.779999</td>\n",
       "      <td>147.559998</td>\n",
       "      <td>147.679993</td>\n",
       "      <td>2637200.0</td>\n",
       "      <td>0.0</td>\n",
       "      <td>0.0</td>\n",
       "      <td>MMM</td>\n",
       "      <td>NaN</td>\n",
       "    </tr>\n",
       "    <tr>\n",
       "      <th>2022-03-24</th>\n",
       "      <td>148.119995</td>\n",
       "      <td>149.229996</td>\n",
       "      <td>147.399994</td>\n",
       "      <td>148.979996</td>\n",
       "      <td>2028100.0</td>\n",
       "      <td>0.0</td>\n",
       "      <td>0.0</td>\n",
       "      <td>MMM</td>\n",
       "      <td>NaN</td>\n",
       "    </tr>\n",
       "    <tr>\n",
       "      <th>2022-03-25</th>\n",
       "      <td>149.270004</td>\n",
       "      <td>151.179993</td>\n",
       "      <td>148.910004</td>\n",
       "      <td>150.460007</td>\n",
       "      <td>2247800.0</td>\n",
       "      <td>0.0</td>\n",
       "      <td>0.0</td>\n",
       "      <td>MMM</td>\n",
       "      <td>NaN</td>\n",
       "    </tr>\n",
       "    <tr>\n",
       "      <th>...</th>\n",
       "      <td>...</td>\n",
       "      <td>...</td>\n",
       "      <td>...</td>\n",
       "      <td>...</td>\n",
       "      <td>...</td>\n",
       "      <td>...</td>\n",
       "      <td>...</td>\n",
       "      <td>...</td>\n",
       "      <td>...</td>\n",
       "    </tr>\n",
       "    <tr>\n",
       "      <th>2022-04-12</th>\n",
       "      <td>68.269997</td>\n",
       "      <td>68.970001</td>\n",
       "      <td>67.879997</td>\n",
       "      <td>68.239998</td>\n",
       "      <td>1196200.0</td>\n",
       "      <td>0.0</td>\n",
       "      <td>0.0</td>\n",
       "      <td>BF-B</td>\n",
       "      <td>NaN</td>\n",
       "    </tr>\n",
       "    <tr>\n",
       "      <th>2022-04-13</th>\n",
       "      <td>68.010002</td>\n",
       "      <td>69.089996</td>\n",
       "      <td>67.550003</td>\n",
       "      <td>68.919998</td>\n",
       "      <td>1136300.0</td>\n",
       "      <td>0.0</td>\n",
       "      <td>0.0</td>\n",
       "      <td>BF-B</td>\n",
       "      <td>NaN</td>\n",
       "    </tr>\n",
       "    <tr>\n",
       "      <th>2022-04-14</th>\n",
       "      <td>69.239998</td>\n",
       "      <td>69.800003</td>\n",
       "      <td>68.290001</td>\n",
       "      <td>68.500000</td>\n",
       "      <td>4782200.0</td>\n",
       "      <td>0.0</td>\n",
       "      <td>0.0</td>\n",
       "      <td>BF-B</td>\n",
       "      <td>NaN</td>\n",
       "    </tr>\n",
       "    <tr>\n",
       "      <th>2022-04-18</th>\n",
       "      <td>68.349998</td>\n",
       "      <td>68.699997</td>\n",
       "      <td>67.160004</td>\n",
       "      <td>67.459999</td>\n",
       "      <td>1334500.0</td>\n",
       "      <td>0.0</td>\n",
       "      <td>0.0</td>\n",
       "      <td>BF-B</td>\n",
       "      <td>NaN</td>\n",
       "    </tr>\n",
       "    <tr>\n",
       "      <th>2022-04-19</th>\n",
       "      <td>67.459999</td>\n",
       "      <td>68.400002</td>\n",
       "      <td>67.309998</td>\n",
       "      <td>68.029999</td>\n",
       "      <td>1545500.0</td>\n",
       "      <td>0.0</td>\n",
       "      <td>0.0</td>\n",
       "      <td>BF-B</td>\n",
       "      <td>NaN</td>\n",
       "    </tr>\n",
       "  </tbody>\n",
       "</table>\n",
       "<p>10487 rows × 9 columns</p>\n",
       "</div>"
      ],
      "text/plain": [
       "                  Open        High         Low       Close     Volume  \\\n",
       "Date                                                                    \n",
       "2022-03-21  148.690002  149.740005  147.399994  148.580002  4514900.0   \n",
       "2022-03-22  149.449997  150.839996  148.500000  149.940002  4252000.0   \n",
       "2022-03-23  149.690002  149.779999  147.559998  147.679993  2637200.0   \n",
       "2022-03-24  148.119995  149.229996  147.399994  148.979996  2028100.0   \n",
       "2022-03-25  149.270004  151.179993  148.910004  150.460007  2247800.0   \n",
       "...                ...         ...         ...         ...        ...   \n",
       "2022-04-12   68.269997   68.970001   67.879997   68.239998  1196200.0   \n",
       "2022-04-13   68.010002   69.089996   67.550003   68.919998  1136300.0   \n",
       "2022-04-14   69.239998   69.800003   68.290001   68.500000  4782200.0   \n",
       "2022-04-18   68.349998   68.699997   67.160004   67.459999  1334500.0   \n",
       "2022-04-19   67.459999   68.400002   67.309998   68.029999  1545500.0   \n",
       "\n",
       "            Dividends  Stock Splits Symbol  Adj Close  \n",
       "Date                                                   \n",
       "2022-03-21        0.0           0.0    MMM        NaN  \n",
       "2022-03-22        0.0           0.0    MMM        NaN  \n",
       "2022-03-23        0.0           0.0    MMM        NaN  \n",
       "2022-03-24        0.0           0.0    MMM        NaN  \n",
       "2022-03-25        0.0           0.0    MMM        NaN  \n",
       "...               ...           ...    ...        ...  \n",
       "2022-04-12        0.0           0.0   BF-B        NaN  \n",
       "2022-04-13        0.0           0.0   BF-B        NaN  \n",
       "2022-04-14        0.0           0.0   BF-B        NaN  \n",
       "2022-04-18        0.0           0.0   BF-B        NaN  \n",
       "2022-04-19        0.0           0.0   BF-B        NaN  \n",
       "\n",
       "[10487 rows x 9 columns]"
      ]
     },
     "execution_count": 8,
     "metadata": {},
     "output_type": "execute_result"
    }
   ],
   "source": [
    "stock1"
   ]
  },
  {
   "cell_type": "code",
   "execution_count": 9,
   "id": "80b1a142",
   "metadata": {},
   "outputs": [],
   "source": [
    "stock1 = stock1.reset_index()\n",
    "stock1 = stock1.filter(items=['Symbol', 'Date', 'Open', 'High', 'Low', 'Close', 'Volume'])"
   ]
  },
  {
   "cell_type": "code",
   "execution_count": 10,
   "id": "79628592",
   "metadata": {},
   "outputs": [
    {
     "data": {
      "text/html": [
       "<div>\n",
       "<style scoped>\n",
       "    .dataframe tbody tr th:only-of-type {\n",
       "        vertical-align: middle;\n",
       "    }\n",
       "\n",
       "    .dataframe tbody tr th {\n",
       "        vertical-align: top;\n",
       "    }\n",
       "\n",
       "    .dataframe thead th {\n",
       "        text-align: right;\n",
       "    }\n",
       "</style>\n",
       "<table border=\"1\" class=\"dataframe\">\n",
       "  <thead>\n",
       "    <tr style=\"text-align: right;\">\n",
       "      <th></th>\n",
       "      <th>Symbol</th>\n",
       "      <th>Date</th>\n",
       "      <th>Open</th>\n",
       "      <th>High</th>\n",
       "      <th>Low</th>\n",
       "      <th>Close</th>\n",
       "      <th>Volume</th>\n",
       "    </tr>\n",
       "  </thead>\n",
       "  <tbody>\n",
       "    <tr>\n",
       "      <th>0</th>\n",
       "      <td>MMM</td>\n",
       "      <td>2022-03-21</td>\n",
       "      <td>148.690002</td>\n",
       "      <td>149.740005</td>\n",
       "      <td>147.399994</td>\n",
       "      <td>148.580002</td>\n",
       "      <td>4514900.0</td>\n",
       "    </tr>\n",
       "    <tr>\n",
       "      <th>1</th>\n",
       "      <td>MMM</td>\n",
       "      <td>2022-03-22</td>\n",
       "      <td>149.449997</td>\n",
       "      <td>150.839996</td>\n",
       "      <td>148.500000</td>\n",
       "      <td>149.940002</td>\n",
       "      <td>4252000.0</td>\n",
       "    </tr>\n",
       "    <tr>\n",
       "      <th>2</th>\n",
       "      <td>MMM</td>\n",
       "      <td>2022-03-23</td>\n",
       "      <td>149.690002</td>\n",
       "      <td>149.779999</td>\n",
       "      <td>147.559998</td>\n",
       "      <td>147.679993</td>\n",
       "      <td>2637200.0</td>\n",
       "    </tr>\n",
       "    <tr>\n",
       "      <th>3</th>\n",
       "      <td>MMM</td>\n",
       "      <td>2022-03-24</td>\n",
       "      <td>148.119995</td>\n",
       "      <td>149.229996</td>\n",
       "      <td>147.399994</td>\n",
       "      <td>148.979996</td>\n",
       "      <td>2028100.0</td>\n",
       "    </tr>\n",
       "    <tr>\n",
       "      <th>4</th>\n",
       "      <td>MMM</td>\n",
       "      <td>2022-03-25</td>\n",
       "      <td>149.270004</td>\n",
       "      <td>151.179993</td>\n",
       "      <td>148.910004</td>\n",
       "      <td>150.460007</td>\n",
       "      <td>2247800.0</td>\n",
       "    </tr>\n",
       "    <tr>\n",
       "      <th>...</th>\n",
       "      <td>...</td>\n",
       "      <td>...</td>\n",
       "      <td>...</td>\n",
       "      <td>...</td>\n",
       "      <td>...</td>\n",
       "      <td>...</td>\n",
       "      <td>...</td>\n",
       "    </tr>\n",
       "    <tr>\n",
       "      <th>10482</th>\n",
       "      <td>BF-B</td>\n",
       "      <td>2022-04-12</td>\n",
       "      <td>68.269997</td>\n",
       "      <td>68.970001</td>\n",
       "      <td>67.879997</td>\n",
       "      <td>68.239998</td>\n",
       "      <td>1196200.0</td>\n",
       "    </tr>\n",
       "    <tr>\n",
       "      <th>10483</th>\n",
       "      <td>BF-B</td>\n",
       "      <td>2022-04-13</td>\n",
       "      <td>68.010002</td>\n",
       "      <td>69.089996</td>\n",
       "      <td>67.550003</td>\n",
       "      <td>68.919998</td>\n",
       "      <td>1136300.0</td>\n",
       "    </tr>\n",
       "    <tr>\n",
       "      <th>10484</th>\n",
       "      <td>BF-B</td>\n",
       "      <td>2022-04-14</td>\n",
       "      <td>69.239998</td>\n",
       "      <td>69.800003</td>\n",
       "      <td>68.290001</td>\n",
       "      <td>68.500000</td>\n",
       "      <td>4782200.0</td>\n",
       "    </tr>\n",
       "    <tr>\n",
       "      <th>10485</th>\n",
       "      <td>BF-B</td>\n",
       "      <td>2022-04-18</td>\n",
       "      <td>68.349998</td>\n",
       "      <td>68.699997</td>\n",
       "      <td>67.160004</td>\n",
       "      <td>67.459999</td>\n",
       "      <td>1334500.0</td>\n",
       "    </tr>\n",
       "    <tr>\n",
       "      <th>10486</th>\n",
       "      <td>BF-B</td>\n",
       "      <td>2022-04-19</td>\n",
       "      <td>67.459999</td>\n",
       "      <td>68.400002</td>\n",
       "      <td>67.309998</td>\n",
       "      <td>68.029999</td>\n",
       "      <td>1545500.0</td>\n",
       "    </tr>\n",
       "  </tbody>\n",
       "</table>\n",
       "<p>10487 rows × 7 columns</p>\n",
       "</div>"
      ],
      "text/plain": [
       "      Symbol       Date        Open        High         Low       Close  \\\n",
       "0        MMM 2022-03-21  148.690002  149.740005  147.399994  148.580002   \n",
       "1        MMM 2022-03-22  149.449997  150.839996  148.500000  149.940002   \n",
       "2        MMM 2022-03-23  149.690002  149.779999  147.559998  147.679993   \n",
       "3        MMM 2022-03-24  148.119995  149.229996  147.399994  148.979996   \n",
       "4        MMM 2022-03-25  149.270004  151.179993  148.910004  150.460007   \n",
       "...      ...        ...         ...         ...         ...         ...   \n",
       "10482   BF-B 2022-04-12   68.269997   68.970001   67.879997   68.239998   \n",
       "10483   BF-B 2022-04-13   68.010002   69.089996   67.550003   68.919998   \n",
       "10484   BF-B 2022-04-14   69.239998   69.800003   68.290001   68.500000   \n",
       "10485   BF-B 2022-04-18   68.349998   68.699997   67.160004   67.459999   \n",
       "10486   BF-B 2022-04-19   67.459999   68.400002   67.309998   68.029999   \n",
       "\n",
       "          Volume  \n",
       "0      4514900.0  \n",
       "1      4252000.0  \n",
       "2      2637200.0  \n",
       "3      2028100.0  \n",
       "4      2247800.0  \n",
       "...          ...  \n",
       "10482  1196200.0  \n",
       "10483  1136300.0  \n",
       "10484  4782200.0  \n",
       "10485  1334500.0  \n",
       "10486  1545500.0  \n",
       "\n",
       "[10487 rows x 7 columns]"
      ]
     },
     "execution_count": 10,
     "metadata": {},
     "output_type": "execute_result"
    }
   ],
   "source": [
    "stock1"
   ]
  },
  {
   "cell_type": "code",
   "execution_count": 11,
   "id": "5b6354df",
   "metadata": {},
   "outputs": [],
   "source": [
    "stock1.to_csv('stock_price.csv',index=False)"
   ]
  },
  {
   "cell_type": "code",
   "execution_count": null,
   "id": "a038479d",
   "metadata": {},
   "outputs": [],
   "source": [
    "#6months\n",
    "#stock1.to_csv('stock_price_6_month.csv',index=False)"
   ]
  },
  {
   "cell_type": "markdown",
   "id": "90effff3",
   "metadata": {},
   "source": [
    "# We have tried 6 different api keys because one free api key can only extract 100 companies, so you can replace the following apiKey in the area of \"apiKey=\".\n",
    "'52130cd4c70747e3baaa9b6068ccf32f'\n",
    "'bbb9fbdfe2684646a44b963c18a0a1c4'\n",
    "'eafdaf97cf464efaa9025bb8426d01d6'\n",
    "'60d2e3e6d29846818a60c9311bea67bc'\n",
    "'20d1e88062794c63a20b9d76f23c9d16'\n",
    "'2c95544c1f62467dac17e3dd1988e848'"
   ]
  },
  {
   "cell_type": "code",
   "execution_count": 279,
   "id": "d06b1737",
   "metadata": {},
   "outputs": [],
   "source": [
    "def get_company_news(company_name):\n",
    " \n",
    "    try:\n",
    "        # Get store review count\n",
    "        response = requests.request('GET', 'https://newsapi.org/v2/everything?'\n",
    "       'q=%s&'\n",
    "       'from=2022-03-22&'\n",
    "       'sortBy=popularity&'\n",
    "       'apiKey=20d1e88062794c63a20b9d76f23c9d16' % (company_name,))\n",
    "        data = response.json()\n",
    "        for i in data[\"articles\"][:20]:\n",
    "            i[\"company\"] = company_name\n",
    "        \n",
    "        return data[\"articles\"][:20]\n",
    "    \n",
    "    except:\n",
    "        dic = {}\n",
    "        list1 = []\n",
    "        dic[\"company\"] = company_name\n",
    "        dic[\"description\"] = \"No data found\"\n",
    "        list1.append(dic)\n",
    "        \n",
    "        return list1\n",
    "    \n",
    "#url = ('https://newsapi.org/v2/everything?q=apple&from=2022-03-22&sortBy=popularity&apiKey=f45df9d527394ef7bb01677f475c7951')"
   ]
  },
  {
   "cell_type": "code",
   "execution_count": 239,
   "id": "5d276fa7",
   "metadata": {},
   "outputs": [],
   "source": [
    "#First 100 companies\n",
    "news = []\n",
    "for company in company_list[0:100]:\n",
    "    news = news + get_company_news(company)"
   ]
  },
  {
   "cell_type": "code",
   "execution_count": 252,
   "id": "798525c9",
   "metadata": {},
   "outputs": [],
   "source": [
    "#second 100 companies\n",
    "news1 = []\n",
    "for company in company_list[100:200]:\n",
    "    news1 = news1 + get_company_news(company)"
   ]
  },
  {
   "cell_type": "code",
   "execution_count": 266,
   "id": "01466e35",
   "metadata": {},
   "outputs": [],
   "source": [
    "#third 100 companies\n",
    "news2 = []\n",
    "for company in company_list[200:300]:\n",
    "    news2 = news2 + get_company_news(company)"
   ]
  },
  {
   "cell_type": "code",
   "execution_count": 270,
   "id": "ff2d14d5",
   "metadata": {},
   "outputs": [],
   "source": [
    "#fourth 100 companies\n",
    "news3 = []\n",
    "for company in company_list[300:400]:\n",
    "    news3 = news3 + get_company_news(company)"
   ]
  },
  {
   "cell_type": "code",
   "execution_count": 276,
   "id": "a0e99149",
   "metadata": {},
   "outputs": [],
   "source": [
    "#fifth 100 companies\n",
    "news4 = []\n",
    "for company in company_list[400:500]:\n",
    "    news4 = news4 + get_company_news(company)"
   ]
  },
  {
   "cell_type": "code",
   "execution_count": 280,
   "id": "d5a7e420",
   "metadata": {},
   "outputs": [],
   "source": [
    "#last few companies\n",
    "news5 = []\n",
    "for company in company_list[500:]:\n",
    "    news5 = news5 + get_company_news(company)"
   ]
  },
  {
   "cell_type": "code",
   "execution_count": 240,
   "id": "890c0e78",
   "metadata": {
    "scrolled": true
   },
   "outputs": [
    {
     "data": {
      "text/plain": [
       "979"
      ]
     },
     "execution_count": 240,
     "metadata": {},
     "output_type": "execute_result"
    }
   ],
   "source": [
    "len(news)"
   ]
  },
  {
   "cell_type": "code",
   "execution_count": 247,
   "id": "80a17219",
   "metadata": {},
   "outputs": [
    {
     "data": {
      "text/plain": [
       "1000"
      ]
     },
     "execution_count": 247,
     "metadata": {},
     "output_type": "execute_result"
    }
   ],
   "source": [
    "len(news1)"
   ]
  },
  {
   "cell_type": "code",
   "execution_count": 253,
   "id": "ae8f9a4c",
   "metadata": {},
   "outputs": [
    {
     "data": {
      "text/plain": [
       "991"
      ]
     },
     "execution_count": 253,
     "metadata": {},
     "output_type": "execute_result"
    }
   ],
   "source": [
    "len(news2)"
   ]
  },
  {
   "cell_type": "code",
   "execution_count": 258,
   "id": "e5f1bcb5",
   "metadata": {},
   "outputs": [
    {
     "data": {
      "text/plain": [
       "991"
      ]
     },
     "execution_count": 258,
     "metadata": {},
     "output_type": "execute_result"
    }
   ],
   "source": [
    "len(news3)"
   ]
  },
  {
   "cell_type": "code",
   "execution_count": 267,
   "id": "849cdbc8",
   "metadata": {},
   "outputs": [
    {
     "data": {
      "text/plain": [
       "1944"
      ]
     },
     "execution_count": 267,
     "metadata": {},
     "output_type": "execute_result"
    }
   ],
   "source": [
    "len(news4)"
   ]
  },
  {
   "cell_type": "code",
   "execution_count": 271,
   "id": "ef6e7627",
   "metadata": {
    "scrolled": true
   },
   "outputs": [
    {
     "data": {
      "text/plain": [
       "1987"
      ]
     },
     "execution_count": 271,
     "metadata": {},
     "output_type": "execute_result"
    }
   ],
   "source": [
    "len(news5)"
   ]
  },
  {
   "cell_type": "code",
   "execution_count": 2,
   "id": "6a365ad7",
   "metadata": {},
   "outputs": [
    {
     "ename": "NameError",
     "evalue": "name 'news' is not defined",
     "output_type": "error",
     "traceback": [
      "\u001b[0;31m---------------------------------------------------------------------------\u001b[0m",
      "\u001b[0;31mNameError\u001b[0m                                 Traceback (most recent call last)",
      "\u001b[0;32m/var/folders/vl/2g8y29gx603c00ljzx__ssjc0000gn/T/ipykernel_3128/684510645.py\u001b[0m in \u001b[0;36m<module>\u001b[0;34m\u001b[0m\n\u001b[0;32m----> 1\u001b[0;31m \u001b[0mnews_data\u001b[0m \u001b[0;34m=\u001b[0m \u001b[0mnews\u001b[0m \u001b[0;34m+\u001b[0m \u001b[0mnews1\u001b[0m \u001b[0;34m+\u001b[0m \u001b[0mnews2\u001b[0m \u001b[0;34m+\u001b[0m \u001b[0mnews3\u001b[0m \u001b[0;34m+\u001b[0m \u001b[0mnews4\u001b[0m \u001b[0;34m+\u001b[0m \u001b[0mnews5\u001b[0m \u001b[0;34m+\u001b[0m \u001b[0mnews6\u001b[0m \u001b[0;34m+\u001b[0m \u001b[0mnews7\u001b[0m\u001b[0;34m\u001b[0m\u001b[0;34m\u001b[0m\u001b[0m\n\u001b[0m",
      "\u001b[0;31mNameError\u001b[0m: name 'news' is not defined"
     ]
    }
   ],
   "source": [
    "news_data = news + news1 + news2 + news3 + news4 + news5 "
   ]
  },
  {
   "cell_type": "code",
   "execution_count": 1,
   "id": "4d580fad",
   "metadata": {},
   "outputs": [
    {
     "ename": "NameError",
     "evalue": "name 'news_data' is not defined",
     "output_type": "error",
     "traceback": [
      "\u001b[0;31m---------------------------------------------------------------------------\u001b[0m",
      "\u001b[0;31mNameError\u001b[0m                                 Traceback (most recent call last)",
      "\u001b[0;32m/var/folders/vl/2g8y29gx603c00ljzx__ssjc0000gn/T/ipykernel_3128/2554887904.py\u001b[0m in \u001b[0;36m<module>\u001b[0;34m\u001b[0m\n\u001b[0;32m----> 1\u001b[0;31m \u001b[0mlen\u001b[0m\u001b[0;34m(\u001b[0m\u001b[0mnews_data\u001b[0m\u001b[0;34m)\u001b[0m\u001b[0;34m\u001b[0m\u001b[0;34m\u001b[0m\u001b[0m\n\u001b[0m",
      "\u001b[0;31mNameError\u001b[0m: name 'news_data' is not defined"
     ]
    }
   ],
   "source": [
    "len(news_data)"
   ]
  },
  {
   "cell_type": "code",
   "execution_count": 290,
   "id": "3de85f3b",
   "metadata": {},
   "outputs": [],
   "source": [
    "records = json.dumps(news_data, indent = 4)"
   ]
  },
  {
   "cell_type": "code",
   "execution_count": 291,
   "id": "1628fe90",
   "metadata": {},
   "outputs": [],
   "source": [
    "with open(\"news.json\", \"w\") as outfile:\n",
    "    outfile.write(records)"
   ]
  },
  {
   "cell_type": "code",
   "execution_count": 4,
   "id": "2f757066",
   "metadata": {},
   "outputs": [
    {
     "name": "stdout",
     "output_type": "stream",
     "text": [
      "9950\n"
     ]
    }
   ],
   "source": [
    "import json\n",
    "with open('news.json') as f:\n",
    "    news = json.load(f)\n",
    "print(len(news))"
   ]
  },
  {
   "cell_type": "code",
   "execution_count": 323,
   "id": "670f06ef",
   "metadata": {},
   "outputs": [],
   "source": [
    "from elasticsearch import Elasticsearch\n",
    "from elasticsearch_dsl import connections\n",
    "from elasticsearch.helpers import bulk\n",
    "from elasticsearch_dsl import Search\n",
    "from elasticsearch_dsl import Q\n",
    "from pprint import pprint\n",
    "from datetime import datetime"
   ]
  },
  {
   "cell_type": "code",
   "execution_count": 324,
   "id": "1e288e9b",
   "metadata": {},
   "outputs": [],
   "source": [
    "client = Elasticsearch(hosts=[\"localhost\"],\n",
    "                     port=9200, \n",
    "                     http_auth=('elastic', '123456'), \n",
    "                     ca_certs='http_ca.crt',\n",
    "                     use_ssl=True, \n",
    "                     verify_certs=True)"
   ]
  },
  {
   "cell_type": "code",
   "execution_count": 325,
   "id": "bc119f63",
   "metadata": {},
   "outputs": [],
   "source": [
    "from elasticsearch.helpers import bulk\n",
    "resp = bulk(client, news, index = 'news')"
   ]
  },
  {
   "cell_type": "code",
   "execution_count": 327,
   "id": "87f785fb",
   "metadata": {},
   "outputs": [
    {
     "name": "stdout",
     "output_type": "stream",
     "text": [
      "{'author': 'Khamosh Pathak',\n",
      " 'company': 'Apple',\n",
      " 'content': 'HEIC is a solid format for Apple devices. It includes Live '\n",
      "            'Photos, Apples post-processing, and it still manages to weigh way '\n",
      "            'below what a JPG would. While it works fine if youre sharing a '\n",
      "            'photo among… [+2667 chars]',\n",
      " 'description': 'HEIC is a solid format for Apple devices. It includes Live '\n",
      "                'Photos, Apple’s post-processing, and it still manages to '\n",
      "                'weigh way below what a JPG would. While it works fine if '\n",
      "                'you’re sharing a photo among other Apple devices, you run '\n",
      "                'into a problem when you need…',\n",
      " 'publishedAt': '2022-04-13T15:00:00Z',\n",
      " 'source': {'id': None, 'name': 'Lifehacker.com'},\n",
      " 'title': 'The Fastest Ways to Convert Your iPhone HEIC Photos to JPG (So You '\n",
      "          'Can Actually Use Them)',\n",
      " 'url': 'https://lifehacker.com/the-fastest-ways-to-convert-your-iphone-heic-photos-to-1848768694',\n",
      " 'urlToImage': 'https://i.kinja-img.com/gawker-media/image/upload/c_fill,f_auto,fl_progressive,g_center,h_675,pg_1,q_80,w_1200/721db943decd9d7c6a3eb1c569106ae7.jpg'}\n",
      "{'author': 'Jake Peterson',\n",
      " 'company': 'Apple',\n",
      " 'content': 'I use Apple Pay for everything. Its fast, secure, and best of all '\n",
      "            'it gives me 2% cash back on my Apple Card. However, some stores '\n",
      "            'dont stop at 2% cash backparticipating retailers offer 3%. So if '\n",
      "            'you … [+2783 chars]',\n",
      " 'description': 'I use Apple Pay for everything. It’s fast, secure, and best '\n",
      "                'of all it gives me 2% cash back on my Apple Card. However, '\n",
      "                'some stores don’t stop at 2% cash back—participating '\n",
      "                'retailers offer 3%. So if you want to squeeze every cent of '\n",
      "                'credit card rewards you can…',\n",
      " 'publishedAt': '2022-04-20T20:00:00Z',\n",
      " 'source': {'id': None, 'name': 'Lifehacker.com'},\n",
      " 'title': 'Every Store You Can Get 3% Cash Back With Your Apple Card',\n",
      " 'url': 'https://lifehacker.com/every-store-you-can-get-3-cash-back-with-your-apple-ca-1848818805',\n",
      " 'urlToImage': 'https://i.kinja-img.com/gawker-media/image/upload/c_fill,f_auto,fl_progressive,g_center,h_675,pg_1,q_80,w_1200/1a24c2356cb86542a938483ea357be6a.jpg'}\n",
      "{'author': 'Khamosh Pathak',\n",
      " 'company': 'Apple',\n",
      " 'content': 'Every computer develops some cruft over time: the small app you '\n",
      "            'installed years ago and forgot about, or a cleaning utility you '\n",
      "            'downloaded when you wanted to free up some space, but is still '\n",
      "            'running … [+3750 chars]',\n",
      " 'description': 'Every computer develops some cruft over time: the small app '\n",
      "                'you installed years ago and forgot about, or a cleaning '\n",
      "                'utility you downloaded when you wanted to free up some space, '\n",
      "                'but is still running in the background. Plus, Windows comes '\n",
      "                'with its own bloatwar…',\n",
      " 'publishedAt': '2022-04-04T20:30:00Z',\n",
      " 'source': {'id': None, 'name': 'Lifehacker.com'},\n",
      " 'title': 'These Windows Apps Are Outdated, Risky, or Scammy',\n",
      " 'url': 'https://lifehacker.com/these-windows-apps-are-outdated-risky-or-scammy-1848707239',\n",
      " 'urlToImage': 'https://i.kinja-img.com/gawker-media/image/upload/c_fill,f_auto,fl_progressive,g_center,h_675,pg_1,q_80,w_1200/eabb254cb2c8d17e8ec7375aaf9ef580.jpg'}\n",
      "{'author': 'Jeff Somers',\n",
      " 'company': 'Apple',\n",
      " 'content': 'Watching television used to be a pretty straightforward '\n",
      "            'experience. At one time, there were roughly seven channels and '\n",
      "            'you got them by fiddling with an antenna. But the proliferation '\n",
      "            'of programming p… [+6385 chars]',\n",
      " 'description': 'Watching television used to be a pretty straightforward '\n",
      "                'experience. At one time, there were roughly seven channels '\n",
      "                'and you got them by fiddling with an antenna. But the '\n",
      "                'proliferation of programming platforms and the advance of '\n",
      "                'technology has made interacting …',\n",
      " 'publishedAt': '2022-04-08T15:00:00Z',\n",
      " 'source': {'id': None, 'name': 'Lifehacker.com'},\n",
      " 'title': 'Why You Should Buy the Dumbest TV You Can Find',\n",
      " 'url': 'https://lifehacker.com/why-you-should-buy-the-dumbest-tv-you-can-find-1848768646',\n",
      " 'urlToImage': 'https://i.kinja-img.com/gawker-media/image/upload/c_fill,f_auto,fl_progressive,g_center,h_675,pg_1,q_80,w_1200/a4e2614d04ab16c6fe589dfc012093ab.jpg'}\n",
      "{'author': 'Jake Peterson',\n",
      " 'company': 'Apple',\n",
      " 'content': 'Back in the 90s, you needed to have powerful hardware to use an '\n",
      "            'operating system as advanced as, oh,Mac OS 8. Nowadays, you can '\n",
      "            'run the whole thing in a Chrome tab. Its easy to forget just how '\n",
      "            'far co… [+2926 chars]',\n",
      " 'description': 'Back in the ‘90s, you needed to have powerful hardware to use '\n",
      "                'an operating system as advanced as, oh, Mac OS 8. Nowadays, '\n",
      "                'you can run the whole thing in a Chrome tab. It’s easy to '\n",
      "                'forget just how far computers have come in a relatively short '\n",
      "                'time. In case you…',\n",
      " 'publishedAt': '2022-04-05T21:00:00Z',\n",
      " 'source': {'id': None, 'name': 'Lifehacker.com'},\n",
      " 'title': \"Relive the '90s With These Web-Based Mac Emulators\",\n",
      " 'url': 'https://lifehacker.com/relive-the-90s-with-these-web-based-mac-emulators-1848752013',\n",
      " 'urlToImage': 'https://i.kinja-img.com/gawker-media/image/upload/c_fill,f_auto,fl_progressive,g_center,h_675,pg_1,q_80,w_1200/a1a3b20fcd9de8b462b5d06b662ff4a5.png'}\n",
      "{'author': 'Allie Chanthorn Reinmann',\n",
      " 'company': 'Apple',\n",
      " 'content': 'Baking can be a near-meditative pursuit, the minutes (or hours) '\n",
      "            'spent in the kitchen mixing and measuring dropping you into a '\n",
      "            'state of purposeful calm, or serving as a bonding experience when '\n",
      "            'youre w… [+8843 chars]',\n",
      " 'description': 'Baking can be a near-meditative pursuit, the minutes (or '\n",
      "                'hours) spent in the kitchen mixing and measuring dropping you '\n",
      "                'into a state of purposeful calm, or serving as a bonding '\n",
      "                'experience when you’re working with others. Baking can also '\n",
      "                'be a downright tedious …',\n",
      " 'publishedAt': '2022-04-07T13:30:00Z',\n",
      " 'source': {'id': None, 'name': 'Lifehacker.com'},\n",
      " 'title': 'Your Baking Needs More Jam, Actually',\n",
      " 'url': 'https://lifehacker.com/your-baking-needs-more-jam-actually-1848760165',\n",
      " 'urlToImage': 'https://i.kinja-img.com/gawker-media/image/upload/c_fill,f_auto,fl_progressive,g_center,h_675,pg_1,q_80,w_1200/c379b69127310148e134a2edc128b542.jpg'}\n",
      "{'author': 'Jon Fingas',\n",
      " 'company': 'Apple',\n",
      " 'content': 'Apple is well-known for doing things in-house whenever possible, '\n",
      "            'and that might even extend to financial services. '\n",
      "            'Bloombergsources claim Apple is laying the groundwork for \"future '\n",
      "            'financial services… [+1457 chars]',\n",
      " 'description': 'Apple is well-known for doing things in-house whenever '\n",
      "                'possible, and that might even extend to financial services. '\n",
      "                'Bloombergsources claim Apple is laying the groundwork for '\n",
      "                '\"future financial services\" through a multi-year effort that '\n",
      "                'would bring more financia…',\n",
      " 'publishedAt': '2022-03-30T19:44:39Z',\n",
      " 'source': {'id': 'engadget', 'name': 'Engadget'},\n",
      " 'title': 'Apple reportedly wants to handle more financial services in-house',\n",
      " 'url': 'https://www.engadget.com/apple-financial-services-lending-credit-checks-194439130.html',\n",
      " 'urlToImage': 'https://s.yimg.com/os/creatr-images/2019-11/55a56690-0496-11ea-bd9e-d8548107e12e'}\n",
      "{'author': 'Igor Bonifacic',\n",
      " 'company': 'Apple',\n",
      " 'content': 'Following years of litigation, Canadian patent monetization firm '\n",
      "            'WiLAN has signed a licensing\\r\\n'\n",
      "            ' agreement with Apple. With the deal, the two companies have '\n",
      "            'settled all court cases that were ongoing b… [+1058 chars]',\n",
      " 'description': 'Following years of litigation, Canadian “patent monetization” '\n",
      "                'firm WiLAN has signed a licensing\\r\\n'\n",
      "                ' agreement with Apple. With the deal, the two companies have '\n",
      "                'settled all court cases that were ongoing between them in the '\n",
      "                'US, Canada and Germany related to a ser…',\n",
      " 'publishedAt': '2022-03-22T19:42:07Z',\n",
      " 'source': {'id': 'engadget', 'name': 'Engadget'},\n",
      " 'title': 'Apple settles voice over LTE patent dispute with WiLAN',\n",
      " 'url': 'https://www.engadget.com/apple-wilan-patent-settlement-194207518.html',\n",
      " 'urlToImage': 'https://s.yimg.com/os/creatr-uploaded-images/2022-03/ff7dea80-aa15-11ec-a7fd-dddc791b8a8e'}\n",
      "{'author': 'Steve Dent',\n",
      " 'company': 'Apple',\n",
      " 'content': 'Some owners of the new Apple Studio Display are having problems '\n",
      "            'updating to the latest firmware, MacRumors has reported. After '\n",
      "            'multiple failed attempts, users are being told by Apple support '\n",
      "            'to bring… [+937 chars]',\n",
      " 'description': 'Some owners of the new Apple Studio Display are having '\n",
      "                'problems updating to the latest firmware, MacRumors has '\n",
      "                'reported. After multiple failed attempts, users are being '\n",
      "                'told by Apple support to bring their display in for repair to '\n",
      "                'an Apple Store or authorized…',\n",
      " 'publishedAt': '2022-04-11T08:35:54Z',\n",
      " 'source': {'id': 'engadget', 'name': 'Engadget'},\n",
      " 'title': 'Apple Studio Display issue leaves some owners unable to update '\n",
      "          'their firmware',\n",
      " 'url': 'https://www.engadget.com/apple-studio-display-owners-report-problems-updating-to-the-latest-i-os-firmware-083554849.html',\n",
      " 'urlToImage': 'https://s.yimg.com/os/creatr-uploaded-images/2022-04/7f826020-b96c-11ec-969b-dec34340ff30'}\n",
      "{'author': 'Jon Fingas',\n",
      " 'company': 'Apple',\n",
      " 'content': \"Apple's iPhones and other devices have become increasingly \"\n",
      "            'expensive, and the company may be using alternative sales models '\n",
      "            'to help soften the blow. Bloombergsources claim Apple is '\n",
      "            'developing a subsc… [+1011 chars]',\n",
      " 'description': \"Apple's iPhones and other devices have become increasingly \"\n",
      "                'expensive, and the company may be using alternative sales '\n",
      "                'models to help soften the blow. Bloombergsources claim Apple '\n",
      "                'is developing a subscription service for the iPhone and other '\n",
      "                'hardware. Akin to t…',\n",
      " 'publishedAt': '2022-03-24T17:34:02Z',\n",
      " 'source': {'id': 'engadget', 'name': 'Engadget'},\n",
      " 'title': 'Apple is reportedly planning an iPhone hardware subscription '\n",
      "          'service',\n",
      " 'url': 'https://www.engadget.com/apple-iphone-hardware-subscription-service-rumor-173402698.html',\n",
      " 'urlToImage': 'https://s.yimg.com/os/creatr-uploaded-images/2022-03/45453e60-ab97-11ec-bff2-c465f5469a16'}\n"
     ]
    }
   ],
   "source": [
    "s = Search(using=client, index=\"news\") \\\n",
    "        .query(\"match\", company=\"Apple\")\n",
    "\n",
    "el_response = s.execute() # by default you get 10 hits\n",
    "\n",
    "for hit in el_response['hits']['hits']:\n",
    "    pprint(hit['_source'].to_dict())"
   ]
  },
  {
   "cell_type": "code",
   "execution_count": null,
   "id": "c77d0188",
   "metadata": {},
   "outputs": [],
   "source": []
  }
 ],
 "metadata": {
  "kernelspec": {
   "display_name": "Python 3 (ipykernel)",
   "language": "python",
   "name": "python3"
  },
  "language_info": {
   "codemirror_mode": {
    "name": "ipython",
    "version": 3
   },
   "file_extension": ".py",
   "mimetype": "text/x-python",
   "name": "python",
   "nbconvert_exporter": "python",
   "pygments_lexer": "ipython3",
   "version": "3.9.7"
  }
 },
 "nbformat": 4,
 "nbformat_minor": 5
}
