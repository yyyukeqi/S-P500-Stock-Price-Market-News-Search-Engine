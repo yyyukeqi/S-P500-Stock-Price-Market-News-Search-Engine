{
 "cells": [
  {
   "cell_type": "code",
   "execution_count": 48,
   "metadata": {
    "id": "IZR41HnKvvqX"
   },
   "outputs": [],
   "source": [
    "#!pip install pyspark"
   ]
  },
  {
   "cell_type": "code",
   "execution_count": 105,
   "metadata": {
    "id": "IXSUGD2nMt7y"
   },
   "outputs": [],
   "source": [
    "from pyspark.conf import SparkConf\n",
    "from pyspark import SparkContext\n",
    "from pyspark.sql import SQLContext\n",
    "\n",
    "sc = SparkContext() \n",
    "config = sc.getConf()\n",
    "config.set('spark.cores.max','4')\n",
    "config.set('spark.executor.memory', '8G')\n",
    "config.set('spark.driver.maxResultSize', '8g')\n",
    "config.set('spark.kryoserializer.buffer.max', '512m')\n",
    "config.set(\"spark.driver.cores\", \"4\")\n",
    "\n",
    "sc.stop()"
   ]
  },
  {
   "cell_type": "code",
   "execution_count": 106,
   "metadata": {
    "colab": {
     "base_uri": "https://localhost:8080/"
    },
    "id": "UxIZRsonM1ZI",
    "outputId": "2aed0943-dfec-493e-cde7-6b7e48735490"
   },
   "outputs": [
    {
     "name": "stderr",
     "output_type": "stream",
     "text": [
      "/usr/local/lib/python3.7/dist-packages/pyspark/sql/context.py:79: FutureWarning: Deprecated in 3.0.0. Use SparkSession.builder.getOrCreate() instead.\n",
      "  FutureWarning\n"
     ]
    }
   ],
   "source": [
    "sc = SparkContext(conf = config) \n",
    "sqlContext = SQLContext(sc)\n",
    "spark = SparkSession(sc)"
   ]
  },
  {
   "cell_type": "code",
   "execution_count": 107,
   "metadata": {
    "colab": {
     "base_uri": "https://localhost:8080/"
    },
    "id": "_pzdmw9C0MPt",
    "outputId": "36a48580-c269-4244-deba-615b4ae8bbbe"
   },
   "outputs": [
    {
     "data": {
      "text/plain": [
       "['author',\n",
       " 'company',\n",
       " 'content',\n",
       " 'description',\n",
       " 'publishedAt',\n",
       " 'source',\n",
       " 'title',\n",
       " 'url',\n",
       " 'urlToImage']"
      ]
     },
     "execution_count": 107,
     "metadata": {},
     "output_type": "execute_result"
    }
   ],
   "source": [
    "news = spark.read.option(\"multiline\",\"true\") \\\n",
    "      .json(\"news.json\")\n",
    "news.columns"
   ]
  },
  {
   "cell_type": "code",
   "execution_count": 108,
   "metadata": {
    "colab": {
     "base_uri": "https://localhost:8080/"
    },
    "id": "6HNqp0wH2Tn1",
    "outputId": "fb2f4859-167b-45f4-baf7-46d521c76ffc"
   },
   "outputs": [
    {
     "name": "stdout",
     "output_type": "stream",
     "text": [
      "+-------+--------------------+--------------------+--------------------+--------------------+\n",
      "|company|              source|         publishedAt|               title|         description|\n",
      "+-------+--------------------+--------------------+--------------------+--------------------+\n",
      "|     3M|{bbc-news, BBC News}|2022-04-14T23:39:47Z|The book that san...|A jewel-encrusted...|\n",
      "|     3M|  {reuters, Reuters}|2022-04-07T18:08:00Z|Judge blasts 3M's...|The federal judge...|\n",
      "|     3M|  {reuters, Reuters}|2022-04-08T21:27:00Z|3M benchslapped f...|Critics of consol...|\n",
      "|     3M|  {reuters, Reuters}|2022-03-25T23:11:00Z|Jury says 3M owes...|A federal jury on...|\n",
      "|     3M|  {reuters, Reuters}|2022-04-07T11:18:00Z|Mexico labor refo...|A top U.S. labor ...|\n",
      "|     3M|  {reuters, Reuters}|2022-03-30T20:54:00Z|Factbox: Recessio...|The closely watch...|\n",
      "|     3M|{null, The Guardian}|2022-04-13T11:49:52Z|China’s lockdowns...|Organisation lowe...|\n",
      "|     3M|{null, The Guardian}|2022-04-12T18:30:30Z|The Great Celebri...|Mo Farah takes on...|\n",
      "|     3M|{null, The Guardian}|2022-04-14T17:30:08Z|Rangers v Braga: ...|<ul><li>Europa Le...|\n",
      "|     3M|{null, The Guardian}|2022-04-15T08:55:27Z|Brooklyn Peltz Be...|Men may require a...|\n",
      "|     3M|{null, The Guardian}|2022-04-10T12:06:39Z|Norwich v Burnley...|<ul><li>Live upda...|\n",
      "|     3M|{null, The Guardian}|2022-04-10T05:20:49Z|Russia-Ukraine wa...|Zelenskiy says Uk...|\n",
      "|     3M|{null, The Guardian}|2022-04-13T21:49:13Z|Russian artist fa...|Alexandra Skochil...|\n",
      "|     3M|{null, The Guardian}|2022-04-02T16:38:15Z|Far-right activis...|English Defence L...|\n",
      "|     3M|{null, The Guardian}|2022-03-25T06:00:20Z|More than 3,200 U...|Cost of £1.2bn me...|\n",
      "|     3M|{null, The Guardian}|2022-04-10T04:00:09Z|Australian Grand ...|<ul><li>Live upda...|\n",
      "|     3M|{null, The Guardian}|2022-04-02T06:00:43Z|Home improvements...|Many people aim t...|\n",
      "|     3M|{null, The Guardian}|2022-04-08T21:56:05Z|EU sanctions Alis...|Saodat Narzieva h...|\n",
      "|     3M|{null, The Guardian}|2022-04-13T05:00:44Z|Global overseas a...|Concern expressed...|\n",
      "|     3M|{null, The Guardian}|2022-03-22T18:55:51Z|Tommy Robinson po...|Former EDL leader...|\n",
      "+-------+--------------------+--------------------+--------------------+--------------------+\n",
      "only showing top 20 rows\n",
      "\n"
     ]
    }
   ],
   "source": [
    "news.select('company', 'source', 'publishedAt', 'title', 'description').show()  "
   ]
  },
  {
   "cell_type": "code",
   "execution_count": 109,
   "metadata": {
    "colab": {
     "base_uri": "https://localhost:8080/"
    },
    "id": "OUNJG3rf5mMt",
    "outputId": "c413d5bb-ef5a-46af-ca22-1c73446f233b"
   },
   "outputs": [
    {
     "data": {
      "text/plain": [
       "9950"
      ]
     },
     "execution_count": 109,
     "metadata": {},
     "output_type": "execute_result"
    }
   ],
   "source": [
    "# the total number of news\n",
    "news.count()"
   ]
  },
  {
   "cell_type": "code",
   "execution_count": 110,
   "metadata": {
    "colab": {
     "base_uri": "https://localhost:8080/"
    },
    "id": "xWjTxECt5oV5",
    "outputId": "cbee02f5-d9af-4f6f-cafc-5e043001ed34"
   },
   "outputs": [
    {
     "name": "stdout",
     "output_type": "stream",
     "text": [
      "+-----------------------+\n",
      "|count(DISTINCT company)|\n",
      "+-----------------------+\n",
      "|                    505|\n",
      "+-----------------------+\n",
      "\n"
     ]
    }
   ],
   "source": [
    "# how many companies are included\n",
    "companycount=news.select(countDistinct(\"company\"))\n",
    "companycount.show()"
   ]
  },
  {
   "cell_type": "code",
   "execution_count": 111,
   "metadata": {
    "colab": {
     "base_uri": "https://localhost:8080/"
    },
    "id": "tBtPFGqP3DG2",
    "outputId": "1b223b7d-23d9-426f-bcb1-a06be92f43ac"
   },
   "outputs": [
    {
     "name": "stdout",
     "output_type": "stream",
     "text": [
      "+-------------------------+-----+\n",
      "|company                  |count|\n",
      "+-------------------------+-----+\n",
      "|KLA Corporation          |19   |\n",
      "|Allstate Corp            |12   |\n",
      "|Duke Realty Corp         |11   |\n",
      "|IDEX Corporation         |19   |\n",
      "|Under Armour (Class C)   |9    |\n",
      "|Ameren Corp              |7    |\n",
      "|Healthpeak Properties    |14   |\n",
      "|LKQ Corporation          |5    |\n",
      "|Loews Corporation        |9    |\n",
      "|Howmet Aerospace         |19   |\n",
      "|Fox Corporation (Class B)|18   |\n",
      "|TransDigm Group          |17   |\n",
      "|W. W. Grainger           |11   |\n",
      "|Martin Marietta Materials|7    |\n",
      "|Copart                   |14   |\n",
      "|JM Smucker               |3    |\n",
      "|Kimco Realty             |18   |\n",
      "|Cintas Corporation       |17   |\n",
      "|W. R. Berkley Corporation|1    |\n",
      "+-------------------------+-----+\n",
      "\n"
     ]
    },
    {
     "data": {
      "text/plain": [
       "19"
      ]
     },
     "execution_count": 111,
     "metadata": {},
     "output_type": "execute_result"
    }
   ],
   "source": [
    "# find how many companies have less than 20 pieces of news\n",
    "from pyspark.sql.functions import *\n",
    "\n",
    "def count_col_dups(df, col_name):\n",
    "    df_dupes = df.groupBy(col_name) \\\n",
    "                 .agg(count(col_name).alias(\"count\")) \\\n",
    "                 .filter(col('count') < 20) \n",
    "    return df_dupes\n",
    "\n",
    "dupes = count_col_dups(news, 'company')\n",
    "dupes.show(truncate=False)\n",
    "dupes.count()"
   ]
  },
  {
   "cell_type": "code",
   "execution_count": 113,
   "metadata": {
    "colab": {
     "base_uri": "https://localhost:8080/"
    },
    "id": "Und1lQ04DE7E",
    "outputId": "2e0ffc1c-8561-4a50-f9ec-1d69c598c727"
   },
   "outputs": [
    {
     "name": "stdout",
     "output_type": "stream",
     "text": [
      "+-------+--------------------+------------+\n",
      "|company|         publishedAt|publish date|\n",
      "+-------+--------------------+------------+\n",
      "|     3M|2022-04-14T23:39:47Z|  2022-04-14|\n",
      "|     3M|2022-04-07T18:08:00Z|  2022-04-07|\n",
      "|     3M|2022-04-08T21:27:00Z|  2022-04-08|\n",
      "|     3M|2022-03-25T23:11:00Z|  2022-03-25|\n",
      "|     3M|2022-04-07T11:18:00Z|  2022-04-07|\n",
      "|     3M|2022-03-30T20:54:00Z|  2022-03-30|\n",
      "|     3M|2022-04-13T11:49:52Z|  2022-04-13|\n",
      "|     3M|2022-04-12T18:30:30Z|  2022-04-12|\n",
      "|     3M|2022-04-14T17:30:08Z|  2022-04-14|\n",
      "|     3M|2022-04-15T08:55:27Z|  2022-04-15|\n",
      "|     3M|2022-04-10T12:06:39Z|  2022-04-10|\n",
      "|     3M|2022-04-10T05:20:49Z|  2022-04-10|\n",
      "|     3M|2022-04-13T21:49:13Z|  2022-04-13|\n",
      "|     3M|2022-04-02T16:38:15Z|  2022-04-02|\n",
      "|     3M|2022-03-25T06:00:20Z|  2022-03-25|\n",
      "|     3M|2022-04-10T04:00:09Z|  2022-04-10|\n",
      "|     3M|2022-04-02T06:00:43Z|  2022-04-02|\n",
      "|     3M|2022-04-08T21:56:05Z|  2022-04-08|\n",
      "|     3M|2022-04-13T05:00:44Z|  2022-04-13|\n",
      "|     3M|2022-03-22T18:55:51Z|  2022-03-22|\n",
      "+-------+--------------------+------------+\n",
      "only showing top 20 rows\n",
      "\n"
     ]
    }
   ],
   "source": [
    "# create a new column that only have publish date no exact time\n",
    "news1 = news.withColumn('publish date', substring('publishedAt', 1,10))\n",
    "news1.select('company', 'publishedAt','publish date').show()"
   ]
  },
  {
   "cell_type": "code",
   "execution_count": 114,
   "metadata": {
    "colab": {
     "base_uri": "https://localhost:8080/"
    },
    "id": "NpQHQSt85Eps",
    "outputId": "4716d5f1-1429-4566-b99d-5aa51dbdafd4"
   },
   "outputs": [
    {
     "name": "stdout",
     "output_type": "stream",
     "text": [
      "+--------------------+--------------------+------------+\n",
      "|             company|               title|publish date|\n",
      "+--------------------+--------------------+------------+\n",
      "|                  3M|Judge blasts 3M's...|  2022-04-07|\n",
      "|                  3M|3M benchslapped f...|  2022-04-08|\n",
      "|                  3M|Jury says 3M owes...|  2022-03-25|\n",
      "| Abbott Laboratories|Abbott Laboratori...|  2022-04-20|\n",
      "| Abbott Laboratories|3 Things About Ab...|  2022-04-19|\n",
      "|              AbbVie|Texas Demands Inf...|  2022-03-24|\n",
      "|              AbbVie|Is AbbVie Stock a...|  2022-03-22|\n",
      "|             Abiomed|Abiomed Fourth Qu...|  2022-04-08|\n",
      "|             Abiomed|Buy the Dip: Digi...|  2022-04-04|\n",
      "|             Abiomed|Abiomed slips as ...|  2022-04-04|\n",
      "|             Abiomed|Abiomed, AtriCure...|  2022-04-19|\n",
      "|             Abiomed|Abiomed Impella 5...|  2022-04-06|\n",
      "| Activision Blizzard|Activision Blizza...|  2022-03-24|\n",
      "| Activision Blizzard|Governor Newsom f...|  2022-04-13|\n",
      "| Activision Blizzard|Activision Blizza...|  2022-03-29|\n",
      "| Activision Blizzard|Activision Blizza...|  2022-04-11|\n",
      "|               Adobe|Adobe: Should You...|  2022-03-30|\n",
      "|Advanced Micro De...|Is Advanced Micro...|  2022-04-18|\n",
      "|               Aflac|The Margin: Gilbe...|  2022-04-12|\n",
      "|               Aflac|Una joven triunfa...|  2022-03-29|\n",
      "+--------------------+--------------------+------------+\n",
      "only showing top 20 rows\n",
      "\n"
     ]
    },
    {
     "data": {
      "text/plain": [
       "889"
      ]
     },
     "execution_count": 114,
     "metadata": {},
     "output_type": "execute_result"
    }
   ],
   "source": [
    "# Since API also sourced the news that have company name in description and content not in the title, \n",
    "# and most of these articles have less relevancy with the company, so we only select the news that include \n",
    "# company name in the title\n",
    "from pyspark.sql.functions import *\n",
    "query1=news1.filter(col(\"title\").contains(news.company))\n",
    "query1.select('company','title','publish date').show()\n",
    "query1.count()"
   ]
  },
  {
   "cell_type": "code",
   "execution_count": 184,
   "metadata": {
    "id": "oW713qs6TN0I"
   },
   "outputs": [],
   "source": [
    "# Then, we can sort the news based on relevancy, return the news that have company name \n",
    "# in title first, in description second, and in content last\n",
    "from pyspark.sql.functions import when\n",
    "query2 = news1.withColumn(\"relevancy\", when(col(\"title\").contains(news.company), 1)\n",
    "                                            .when(col(\"description\").contains(news.company), 2)\n",
    "                                            .otherwise(3))\n",
    "from pyspark.sql.window import Window\n",
    "from pyspark.sql.functions import row_number\n",
    "query3 = Window.partitionBy(\"company\").orderBy(\"relevancy\")\n",
    "query4 = query2.withColumn(\"order\", row_number().over(query3))\\\n",
    "          .select('order', 'company','title', 'publish date', 'description', 'url')"
   ]
  },
  {
   "cell_type": "code",
   "execution_count": 185,
   "metadata": {
    "colab": {
     "base_uri": "https://localhost:8080/"
    },
    "id": "mCbb9R6KnNn3",
    "outputId": "a1afb9c7-43b7-412e-ca54-d402cd1dc72b"
   },
   "outputs": [
    {
     "name": "stdout",
     "output_type": "stream",
     "text": [
      "+-----+-------+--------------------+------------+--------------------+--------------------+\n",
      "|order|company|               title|publish date|         description|                 url|\n",
      "+-----+-------+--------------------+------------+--------------------+--------------------+\n",
      "|    1|  Apple|Every Store You C...|  2022-04-20|I use Apple Pay f...|https://lifehacke...|\n",
      "|    2|  Apple|Apple reportedly ...|  2022-03-30|Apple is well-kno...|https://www.engad...|\n",
      "|    3|  Apple|Apple settles voi...|  2022-03-22|Following years o...|https://www.engad...|\n",
      "|    4|  Apple|Apple Studio Disp...|  2022-04-11|Some owners of th...|https://www.engad...|\n",
      "|    5|  Apple|Apple is reported...|  2022-03-24|Apple's iPhones a...|https://www.engad...|\n",
      "|    6|  Apple|Apple signs an ex...|  2022-04-13|Apple\\r\\n is look...|https://www.engad...|\n",
      "|    7|  Apple|Apple buys UK-bas...|  2022-03-23|Apple\\r\\n has acq...|https://www.engad...|\n",
      "|    8|  Apple|Apple may release...|  2022-03-27|Bloomberg reporte...|https://www.engad...|\n",
      "|    9|  Apple|Apple begins manu...|  2022-04-11|Apple has started...|https://www.engad...|\n",
      "|   10|  Apple|Apple Music now o...|  2022-04-20|Apple Music's spa...|https://www.engad...|\n",
      "|   11|  Apple|Apple Watch Serie...|  2022-04-12|If Apple\\r\\n stic...|https://www.engad...|\n",
      "|   12|  Apple|Arizona is the fi...|  2022-03-23|It took several m...|https://www.engad...|\n",
      "|   13|  Apple|Apple Watch Serie...|  2022-04-04|If you've been ey...|https://www.engad...|\n",
      "|   14|  Apple|Apple Watch Serie...|  2022-04-11|Apple Watch Serie...|https://www.engad...|\n",
      "|   15|  Apple|The Fastest Ways ...|  2022-04-13|HEIC is a solid f...|https://lifehacke...|\n",
      "|   16|  Apple|Here’s why your i...|  2022-03-30|Setting up an iPh...|https://www.engad...|\n",
      "|   17|  Apple|These Windows App...|  2022-04-04|Every computer de...|https://lifehacke...|\n",
      "|   18|  Apple|Why You Should Bu...|  2022-04-08|Watching televisi...|https://lifehacke...|\n",
      "|   19|  Apple|Relive the '90s W...|  2022-04-05|Back in the ‘90s,...|https://lifehacke...|\n",
      "|   20|  Apple|Your Baking Needs...|  2022-04-07|Baking can be a n...|https://lifehacke...|\n",
      "+-----+-------+--------------------+------------+--------------------+--------------------+\n",
      "\n"
     ]
    }
   ],
   "source": [
    "# We can find the news in the order of relevancy for each company by changing the company name\n",
    "# eg:\n",
    "query4.filter(query4.company==\"Apple\").show()"
   ]
  }
 ],
 "metadata": {
  "colab": {
   "collapsed_sections": [],
   "name": "spark on news.ipynb",
   "provenance": []
  },
  "kernelspec": {
   "display_name": "Python 3 (ipykernel)",
   "language": "python",
   "name": "python3"
  },
  "language_info": {
   "codemirror_mode": {
    "name": "ipython",
    "version": 3
   },
   "file_extension": ".py",
   "mimetype": "text/x-python",
   "name": "python",
   "nbconvert_exporter": "python",
   "pygments_lexer": "ipython3",
   "version": "3.9.7"
  }
 },
 "nbformat": 4,
 "nbformat_minor": 1
}
